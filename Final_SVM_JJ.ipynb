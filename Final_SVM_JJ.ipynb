{
  "nbformat": 4,
  "nbformat_minor": 0,
  "metadata": {
    "colab": {
      "name": "Final SVM - JJ.ipynb",
      "provenance": [],
      "collapsed_sections": [],
      "include_colab_link": true
    },
    "kernelspec": {
      "display_name": "Python 3",
      "name": "python3"
    }
  },
  "cells": [
    {
      "cell_type": "markdown",
      "metadata": {
        "id": "view-in-github",
        "colab_type": "text"
      },
      "source": [
        "<a href=\"https://colab.research.google.com/github/beny2000/HeartDiseaseClassifier/blob/main/Final_SVM_JJ.ipynb\" target=\"_parent\"><img src=\"https://colab.research.google.com/assets/colab-badge.svg\" alt=\"Open In Colab\"/></a>"
      ]
    },
    {
      "cell_type": "code",
      "metadata": {
        "colab": {
          "base_uri": "https://localhost:8080/"
        },
        "id": "GsBoLuY_1vVR",
        "outputId": "35a6421f-7fd0-4f9b-b56e-4ddb0b4706c3"
      },
      "source": [
        "#Connect to Anvil\r\n",
        "!pip install anvil-uplink\r\n",
        "import anvil.server\r\n",
        "anvil.server.connect(\"2ZZFEIO7RSWJ2NSXVOIJU7NK-PUMVCYIB7OL5ZPSL\")"
      ],
      "execution_count": 1,
      "outputs": [
        {
          "output_type": "stream",
          "text": [
            "Requirement already satisfied: anvil-uplink in /usr/local/lib/python3.6/dist-packages (0.3.34)\n",
            "Requirement already satisfied: ws4py in /usr/local/lib/python3.6/dist-packages (from anvil-uplink) (0.5.1)\n",
            "Requirement already satisfied: future in /usr/local/lib/python3.6/dist-packages (from anvil-uplink) (0.16.0)\n",
            "Requirement already satisfied: argparse in /usr/local/lib/python3.6/dist-packages (from anvil-uplink) (1.4.0)\n",
            "Requirement already satisfied: six in /usr/local/lib/python3.6/dist-packages (from anvil-uplink) (1.15.0)\n",
            "Connecting to wss://anvil.works/uplink\n",
            "Anvil websocket open\n",
            "Connected to \"Default environment (dev)\" as SERVER\n"
          ],
          "name": "stdout"
        }
      ]
    },
    {
      "cell_type": "code",
      "metadata": {
        "id": "EMCWX1FakRcw"
      },
      "source": [
        "#Import scikit-learn dataset library\r\n",
        "from sklearn import datasets\r\n",
        "import pandas as pd\r\n",
        "import numpy as np\r\n",
        "\r\n",
        "\r\n",
        "from sqlalchemy import create_engine\r\n",
        "engine = create_engine('sqlite://', echo=False)\r\n",
        "\r\n",
        "#Load dataset\r\n",
        "cleveland = pd.read_csv('heart.csv')"
      ],
      "execution_count": 2,
      "outputs": []
    },
    {
      "cell_type": "code",
      "metadata": {
        "id": "mE3E_QKI1873"
      },
      "source": [
        "# Import train_test_split function\r\n",
        "from sklearn.model_selection import train_test_split\r\n",
        "\r\n",
        "# Split dataset into training set and test set\r\n",
        "x = np.array(cleveland.drop(['target'], 1))\r\n",
        "y = np.array(cleveland['target'])\r\n",
        "\r\n",
        "X_train, X_test, y_train, y_test = train_test_split(x, y, test_size = 0.2, random_state = 0)"
      ],
      "execution_count": 3,
      "outputs": []
    },
    {
      "cell_type": "code",
      "metadata": {
        "id": "fkds2IHp2Gyw"
      },
      "source": [
        "#Import svm model\r\n",
        "from sklearn import svm\r\n",
        "\r\n",
        "#Create a svm Classifier\r\n",
        "clf = svm.SVC(C = 60, kernel='linear') # Linear Kernel\r\n",
        "\r\n",
        "#Train the model using the training sets\r\n",
        "clf.fit(X_train, y_train)\r\n",
        "\r\n",
        "#Predict the response for test dataset\r\n",
        "y_pred = clf.predict(X_test)"
      ],
      "execution_count": 4,
      "outputs": []
    },
    {
      "cell_type": "code",
      "metadata": {
        "colab": {
          "base_uri": "https://localhost:8080/"
        },
        "id": "6kObiA262J_j",
        "outputId": "3facc375-4b7e-4919-e121-d4c5bfdbd0bc"
      },
      "source": [
        "#Import scikit-learn metrics module for accuracy calculation\r\n",
        "from sklearn import metrics\r\n",
        "\r\n",
        "# Model Accuracy: how often is the classifier correct?\r\n",
        "Accuracy = metrics.accuracy_score(y_test, y_pred)\r\n",
        "print(\"Accuracy:\",Accuracy)"
      ],
      "execution_count": 5,
      "outputs": [
        {
          "output_type": "stream",
          "text": [
            "Accuracy: 0.8852459016393442\n"
          ],
          "name": "stdout"
        }
      ]
    },
    {
      "cell_type": "code",
      "metadata": {
        "id": "gsHiVZZ0i5C2"
      },
      "source": [
        "#Create Callable Function\r\n",
        "@anvil.server.callable\r\n",
        "def svmpredict(Age, Sex, CP, BP, Cholesterol, BS, RestECG_Results, MaxHR, exind_Angina, ST_Depression, ST_Slope, MajorVessels, Thal_Test):\r\n",
        "  #Converts to CSV file\r\n",
        "  patientData = pd.DataFrame([[Age, Sex, CP, BP, Cholesterol, BS, RestECG_Results, MaxHR, exind_Angina, ST_Depression, ST_Slope, MajorVessels, Thal_Test]], columns=['Age','Sex','CP','BP','Cholesterol','BS', 'RestECG_Results','MaxHR', 'exind_Angina', 'ST_Depression','ST_Slope','MajorVessels','Thal_Test'])\r\n",
        "  patientData.to_csv('patientData.csv')\r\n",
        "  \r\n",
        "  #Calculates results\r\n",
        "  PatientTest = clf.predict(patientData)\r\n",
        "  PercentAccuracy = round(Accuracy * 100, 2)\r\n",
        "  return PatientTest, PercentAccuracy\r\n"
      ],
      "execution_count": 6,
      "outputs": []
    },
    {
      "cell_type": "code",
      "metadata": {
        "id": "N3SSUiE0j3UV"
      },
      "source": [
        "anvil.server.wait_forever()"
      ],
      "execution_count": null,
      "outputs": []
    }
  ]
}