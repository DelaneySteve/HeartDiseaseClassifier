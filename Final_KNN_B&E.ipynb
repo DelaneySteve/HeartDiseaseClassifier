{
  "nbformat": 4,
  "nbformat_minor": 0,
  "metadata": {
    "colab": {
      "name": "Final KNN - B&E.ipynb",
      "provenance": [],
      "collapsed_sections": [],
      "include_colab_link": true
    },
    "kernelspec": {
      "name": "python3",
      "display_name": "Python 3"
    }
  },
  "cells": [
    {
      "cell_type": "markdown",
      "metadata": {
        "id": "view-in-github",
        "colab_type": "text"
      },
      "source": [
        "<a href=\"https://colab.research.google.com/github/beny2000/HeartDiseaseClassifier/blob/main/Final_KNN_B%26E.ipynb\" target=\"_parent\"><img src=\"https://colab.research.google.com/assets/colab-badge.svg\" alt=\"Open In Colab\"/></a>"
      ]
    },
    {
      "cell_type": "code",
      "metadata": {
        "id": "-qqKUfn6-PQ2",
        "colab": {
          "base_uri": "https://localhost:8080/"
        },
        "outputId": "3fc98787-b198-4fcc-c3ed-8725fdc917ff"
      },
      "source": [
        "#imports\n",
        "import sys\n",
        "import pandas as pd\n",
        "import numpy as np\n",
        "import sklearn\n",
        "import matplotlib\n",
        "import keras\n",
        "import math\n",
        "from sklearn import preprocessing\n",
        "from sklearn.neighbors import KNeighborsClassifier\n",
        "from sklearn.preprocessing import MinMaxScaler\n",
        "from sklearn.model_selection import train_test_split\n",
        "from sklearn.preprocessing import StandardScaler\n",
        "from sklearn.preprocessing import RobustScaler\n",
        "from sklearn.metrics import confusion_matrix\n",
        "from sklearn.preprocessing import scale\n",
        "import pickle\n",
        "\n",
        "!pip install anvil-uplink\n",
        "import anvil.server\n",
        "anvil.server.connect(\"2ZZFEIO7RSWJ2NSXVOIJU7NK-PUMVCYIB7OL5ZPSL\")\n",
        "\n"
      ],
      "execution_count": 1,
      "outputs": [
        {
          "output_type": "stream",
          "text": [
            "Requirement already satisfied: anvil-uplink in /usr/local/lib/python3.6/dist-packages (0.3.34)\n",
            "Requirement already satisfied: ws4py in /usr/local/lib/python3.6/dist-packages (from anvil-uplink) (0.5.1)\n",
            "Requirement already satisfied: argparse in /usr/local/lib/python3.6/dist-packages (from anvil-uplink) (1.4.0)\n",
            "Requirement already satisfied: future in /usr/local/lib/python3.6/dist-packages (from anvil-uplink) (0.16.0)\n",
            "Requirement already satisfied: six in /usr/local/lib/python3.6/dist-packages (from anvil-uplink) (1.15.0)\n",
            "Connecting to wss://anvil.works/uplink\n",
            "Anvil websocket open\n",
            "Connected to \"Default environment (dev)\" as SERVER\n"
          ],
          "name": "stdout"
        }
      ]
    },
    {
      "cell_type": "markdown",
      "metadata": {
        "id": "cGwR-_nlEzns"
      },
      "source": [
        "KNN\n"
      ]
    },
    {
      "cell_type": "code",
      "metadata": {
        "id": "E0S9JULxE3kd"
      },
      "source": [
        "#read data\n",
        "emily = pd.read_csv('heart.csv')\n",
        "data=emily\n",
        "\n",
        "#split into features and labels\n",
        "X = data.iloc[:,:-1].values\n",
        "y = data.iloc[:,13].values\n",
        "\n",
        "#split into test & train\n",
        "x_train, x_test, y_train, y_test = train_test_split(X,y, test_size=0.2)\n",
        "\n",
        "#preprocess data\n",
        "scaler = RobustScaler().fit(X)\n",
        "x_Train = scaler.transform(x_train)\n",
        "x_Test = scaler.transform(x_test)\n",
        "\n",
        "#build model\n",
        "model = KNeighborsClassifier(n_neighbors=5)\n",
        "model.fit(x_Train, y_train)\n",
        "\n",
        "#save model\n",
        "pickle.dump(model, open('model_new.pickle', 'wb'))"
      ],
      "execution_count": 2,
      "outputs": []
    },
    {
      "cell_type": "code",
      "metadata": {
        "colab": {
          "base_uri": "https://localhost:8080/"
        },
        "id": "9OLz88K6H1XS",
        "outputId": "8524c4e7-e993-428b-810f-1b6288ee074a"
      },
      "source": [
        "#Check model performance on the test set\n",
        "print('Accuracy of K-NN classifier on training set: {:.2f}'\n",
        "     .format(model.score(x_Train, y_train)))\n",
        "print('Accuracy of K-NN classifier on test set: {:.2f}'\n",
        "     .format(model.score(x_Test, y_test)))\n",
        "print(\"Pediction for\", x_Test[0], model.predict([x_Test[0]]), \"Correct prediction:\", y_test[0])"
      ],
      "execution_count": 3,
      "outputs": [
        {
          "output_type": "stream",
          "text": [
            "Accuracy of K-NN classifier on training set: 0.89\n",
            "Accuracy of K-NN classifier on test set: 0.82\n",
            "Pediction for [ 0.44444444 -1.         -0.5         0.75        1.05511811  0.\n",
            " -1.         -0.21538462  1.          0.125       0.          0.\n",
            "  1.        ] [0] Correct prediction: 0\n"
          ],
          "name": "stdout"
        }
      ]
    },
    {
      "cell_type": "code",
      "metadata": {
        "id": "ZacoHZyOxzZ6"
      },
      "source": [
        "#Make predict using model\r\n",
        "\r\n",
        "#[age, sex, cp, trestbps, chol, fbs, restecg, thalach, exang, oldpeak, slope, ca, thal]\r\n",
        "#input = [51,\t0,\t0,\t130,\t305,\t0,\t1,\t142,\t1,\t1.2,\t1,\t0,\t3] #0\r\n",
        "#input = [63,\t1,\t3,\t145,\t233,\t1,\t0,\t150,\t0,\t2.3,\t0,\t0,\t1] #1\r\n",
        "\r\n",
        "@anvil.server.callable\r\n",
        "def knnpredict(input):\r\n",
        "  #loads model and makes prediction on input data\r\n",
        "\r\n",
        "  model = pickle.load(open('model_new.pickle', 'rb'))\r\n",
        "  input_scaled = scaler.transform([np.array(input)])\r\n",
        "\r\n",
        "  return model.predict(input_scaled)[0], model.score(x_Test, y_test)\r\n"
      ],
      "execution_count": 4,
      "outputs": []
    },
    {
      "cell_type": "code",
      "metadata": {
        "id": "_N8_o8qo2hRY"
      },
      "source": [
        "anvil.server.wait_forever()"
      ],
      "execution_count": null,
      "outputs": []
    }
  ]
}